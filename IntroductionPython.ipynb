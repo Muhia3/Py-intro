{
 "cells": [
  {
   "cell_type": "code",
   "execution_count": 1,
   "id": "33fe2a6d",
   "metadata": {},
   "outputs": [
    {
     "name": "stdin",
     "output_type": "stream",
     "text": [
      "name  muia\n",
      "Which year is it  2000\n"
     ]
    },
    {
     "name": "stdout",
     "output_type": "stream",
     "text": [
      "muia thinks it is  2000\n",
      "uh , oh , you have been given a  \u001b[32m warning \u001b[0m for being a bad person \n"
     ]
    },
    {
     "name": "stdin",
     "output_type": "stream",
     "text": [
      "Whats your name  muhia\n"
     ]
    },
    {
     "name": "stdout",
     "output_type": "stream",
     "text": [
      "who the fuck are you even dude\n"
     ]
    }
   ],
   "source": [
    "yourname = input(\"name \")\n",
    "whatyear = input (\"Which year is it \")\n",
    "print(yourname,\"thinks it is \" , whatyear)\n",
    "\n",
    "print(\"uh , oh , you have been given a \", \"\\033[32m\", \"warning\", \"\\033[0m\", \"for being a bad person \")\n",
    "\n",
    "#if statement\n",
    "myname = input(\"Whats your name \")\n",
    "if myname == \"Richard\": #colon at the end indicates if that is fulllfilled the go on and ...\n",
    "    print (\"welcome bigman\")\n",
    "    print(\"you are one of the coolest guy ever seen niggah\")\n",
    "else:\n",
    "    print(\"who the fuck are you even dude\")\n",
    "\n"
   ]
  },
  {
   "cell_type": "code",
   "execution_count": 2,
   "id": "3db990ba-e166-4992-8e54-a41893ccd182",
   "metadata": {},
   "outputs": [
    {
     "name": "stdout",
     "output_type": "stream",
     "text": [
      "SECURE LOGIN\n"
     ]
    },
    {
     "name": "stdin",
     "output_type": "stream",
     "text": [
      "username  Richard\n"
     ]
    },
    {
     "name": "stdout",
     "output_type": "stream",
     "text": [
      "welcome mr \n"
     ]
    }
   ],
   "source": [
    "#3. elif .. after if buh b4 else since else means everything\n",
    "print(\"SECURE LOGIN\")\n",
    "username = input(\"username \")\n",
    "if username == \"Richard\":\n",
    "    print(\"welcome mr \")\n",
    "elif username == \"suzanne\":\n",
    "    print(\"hey madam\")\n",
    "else:\n",
    "    print(\"404 error try again please\")\n"
   ]
  },
  {
   "cell_type": "code",
   "execution_count": 3,
   "id": "fb2fb43b-e3ce-48c1-9ebb-74f24b288a63",
   "metadata": {},
   "outputs": [
    {
     "name": "stdout",
     "output_type": "stream",
     "text": [
      "\n",
      "SECURE LOGIN\n",
      "To the number one platform\n",
      "++++++++++++\n",
      "\n"
     ]
    },
    {
     "name": "stdin",
     "output_type": "stream",
     "text": [
      "username  Keith\n",
      "passsword  234\n"
     ]
    },
    {
     "name": "stdout",
     "output_type": "stream",
     "text": [
      "404 error try again please\n"
     ]
    },
    {
     "name": "stdin",
     "output_type": "stream",
     "text": [
      "Which is you best matatu from thika to nairobi  Super metro\n"
     ]
    },
    {
     "name": "stdout",
     "output_type": "stream",
     "text": [
      "Thats unroad worthy\n"
     ]
    }
   ],
   "source": [
    "        #4. adding some password to the code\n",
    "print(\"\"\"\n",
    "SECURE LOGIN\n",
    "To the number one platform\n",
    "++++++++++++\n",
    "\"\"\")\n",
    "username = input(\"username \")\n",
    "password = input(\"passsword \")\n",
    "\n",
    "if username == \"Richard\" and password == \"richard\":\n",
    "    print(\"welcome mr safaricom is for you! \")\n",
    "elif username == \"suzanne\" or password == \"suzanne\":\n",
    "    print(\"hey madam, welcome to safaricom customer care services \")\n",
    "else:\n",
    "    print(\"404 error try again please\")\n",
    "\n",
    "            # 5. nested if .. just noted that 2 inputs (diferent if else)\n",
    "matthika = input (\"Which is you best matatu from thika to nairobi \")\n",
    "if matthika == \"2nk\":\n",
    "    print (\"You value time!\")\n",
    "    favourite = input (\"who is your all time driver \")\n",
    "    if favourite == \"keith Njamah\":\n",
    "        print (\"Nice taste\")\n",
    "    else:\n",
    "        print(\"maybe havent met yours\")\n",
    "elif matthika ==  \"supermetro\":\n",
    "    print(\"You value your safety\")\n",
    "else:\n",
    "    print(\"Thats unroad worthy\")\n",
    "\n"
   ]
  },
  {
   "cell_type": "code",
   "execution_count": 4,
   "id": "d6527f84-d020-489b-8c8c-acc131044d59",
   "metadata": {},
   "outputs": [
    {
     "name": "stdin",
     "output_type": "stream",
     "text": [
      "Enter value of x  23\n",
      "Enter value of y  45\n",
      "Enter the value of z 65\n"
     ]
    },
    {
     "name": "stdout",
     "output_type": "stream",
     "text": [
      "x is less than y\n"
     ]
    }
   ],
   "source": [
    "#day 6 of hundred days\n",
    "x = int(input(\"Enter value of x \"))\n",
    "y = int(input(\"Enter value of y \"))\n",
    "z = int(input(\"Enter the value of z\"))\n",
    "\n",
    "if x < y :\n",
    "     print(\"x is less than y\")\n",
    "\n",
    "elif x > y:\n",
    "    print(\"x is greater than y\")\n",
    "\n",
    "elif x== y:\n",
    "        print(\"x is equal to y\")\n",
    "else:\n",
    "    print(\"its like your input aint working out\")\n",
    "          "
   ]
  },
  {
   "cell_type": "code",
   "execution_count": 5,
   "id": "9037b5e3-ef06-4f7a-890d-7b0a01acc3dd",
   "metadata": {},
   "outputs": [
    {
     "name": "stdin",
     "output_type": "stream",
     "text": [
      "Please enter the subscriber name  Davie\n"
     ]
    },
    {
     "name": "stdout",
     "output_type": "stream",
     "text": [
      "hello programmer\n",
      "[1, 2, 3, 4, 5, 6, 1, 2, 3, 4, 5, 6, 1, 2, 3, 4, 5, 6]\n"
     ]
    }
   ],
   "source": [
    "    #7. power of assigning variables.. assign each\n",
    "name = input(\"Please enter the subscriber name \")\n",
    "if name == \"Davie\" or name == \"davie\":\n",
    "    print(\"hello programmer\")\n",
    "else: print(\"Introduce yourself to the freelancers first\")\n",
    "\n",
    "\n",
    "print([1,2,3,4,5,6]*3)\n"
   ]
  },
  {
   "cell_type": "code",
   "execution_count": 6,
   "id": "62447907-9d2e-43b0-be61-b54f9e804e7d",
   "metadata": {},
   "outputs": [
    {
     "name": "stdin",
     "output_type": "stream",
     "text": [
      "whats your favourite tv mr idler???  Inoro\n"
     ]
    },
    {
     "name": "stdout",
     "output_type": "stream",
     "text": [
      " This is a free country for your Tv choice\n"
     ]
    }
   ],
   "source": [
    "#Day 7 \n",
    "favouriteTv = input (\"whats your favourite tv mr idler??? \")\n",
    "if favouriteTv  == \"Inooro\":\n",
    "    print(\"your must be a kikuyu\")\n",
    "    favouritePart = input(\"Which show just makaes you tuned in inooro \")\n",
    "    if favouritePart == \"jera ino ciitu\":\n",
    "        print(\"sawa kijana ya huruma\")\n",
    "    else:\n",
    "        print(\"you have different taste from the many\")\n",
    "elif favouriteTv == \"citizen\":\n",
    "    print (\"you are aging up my G\")\n",
    "elif favouriteTv == \"mutongoi\":\n",
    " print(\"sawa wa kwitu\")\n",
    "else:\n",
    "    print( \" This is a free country for your Tv choice\")\n"
   ]
  },
  {
   "cell_type": "code",
   "execution_count": 7,
   "id": "7f1b7446-c168-404f-b0b2-b00fbf479606",
   "metadata": {},
   "outputs": [
    {
     "name": "stdout",
     "output_type": "stream",
     "text": [
      "fake fun finder\n"
     ]
    },
    {
     "name": "stdin",
     "output_type": "stream",
     "text": [
      " whats your favourite anime vsjhj\n",
      "kindly enter your marks  87\n"
     ]
    },
    {
     "name": "stdout",
     "output_type": "stream",
     "text": [
      "A-\n"
     ]
    }
   ],
   "source": [
    "                                                                  ##7. assignment project\n",
    "print(\"fake fun finder\")\n",
    "anime = input(\" whats your favourite anime\")\n",
    " \n",
    "if anime == \"one piece\":\n",
    "    print(\"oh really\")\n",
    "    actor = input(\"name me any character\")\n",
    "    if actor == \"nami\":\n",
    "        print(\"you got that but on pure chance\")\n",
    "        job = input(\"okaythen, what is her role in the ship\")\n",
    "        if job == \"navigator\":\n",
    "            print(\"Hmph\")\n",
    "        bounty = input(\"what was her first  bounty then \")\n",
    "        if bounty == \"ummm\":\n",
    "            print (\"seee fake piece of fun\")\n",
    "   \n",
    "computer_science = float(input(\"kindly enter your marks \"))\n",
    "if computer_science > 100:\n",
    "    print(\"\"\"\n",
    "    Try again\n",
    "    maximum score is 100 please\n",
    "    \"\"\")\n",
    "elif  computer_science >=90:\n",
    "    print( \"A+ , excellent you must be happy \")\n",
    "elif  computer_science>=80:\n",
    "    print (\"A-\")\n",
    "elif computer_science >=70:\n",
    "    print (\"which is a B\")\n",
    "else:\n",
    "    print(\"Below avrege\")\n"
   ]
  },
  {
   "cell_type": "code",
   "execution_count": 8,
   "id": "00dd87d5-5c91-49d2-be03-6568ddfd1f59",
   "metadata": {},
   "outputs": [
    {
     "name": "stdin",
     "output_type": "stream",
     "text": [
      "Enter your name master  mnbv\n"
     ]
    }
   ],
   "source": [
    "\n",
    "\n",
    "    #8 Trial\n",
    "name = input(\"Enter your name master \")\n",
    "if name == \"muhia\" or name == \"kyalo\":\n",
    "    print (\"Hello\", name)\n",
    "   \n",
    " "
   ]
  },
  {
   "cell_type": "code",
   "execution_count": 9,
   "id": "8bbe92eb-8ca5-4e56-b8a7-e6259fc40ab5",
   "metadata": {},
   "outputs": [
    {
     "name": "stdout",
     "output_type": "stream",
     "text": [
      "mmmh\n"
     ]
    },
    {
     "name": "stdin",
     "output_type": "stream",
     "text": [
      "Exit?:  no\n"
     ]
    },
    {
     "name": "stdout",
     "output_type": "stream",
     "text": [
      "mmmh\n"
     ]
    },
    {
     "name": "stdin",
     "output_type": "stream",
     "text": [
      "Exit?:  yes\n"
     ]
    },
    {
     "name": "stdout",
     "output_type": "stream",
     "text": [
      "This program is running \n"
     ]
    },
    {
     "name": "stdin",
     "output_type": "stream",
     "text": [
      "Go again?:  no\n"
     ]
    },
    {
     "name": "stdout",
     "output_type": "stream",
     "text": [
      "aww , i was having a good codimg time \n"
     ]
    },
    {
     "name": "stdin",
     "output_type": "stream",
     "text": [
      "Enter number:  0987654\n"
     ]
    },
    {
     "name": "stdout",
     "output_type": "stream",
     "text": [
      "current total is 987654\n"
     ]
    },
    {
     "name": "stdin",
     "output_type": "stream",
     "text": [
      "Add another?  45678\n"
     ]
    },
    {
     "name": "stdout",
     "output_type": "stream",
     "text": [
      "bye MR:\n"
     ]
    },
    {
     "name": "stdin",
     "output_type": "stream",
     "text": [
      "Enter number:  09876\n"
     ]
    },
    {
     "name": "stdout",
     "output_type": "stream",
     "text": [
      "current total is 997530\n"
     ]
    },
    {
     "name": "stdin",
     "output_type": "stream",
     "text": [
      "Add another?  42452\n"
     ]
    },
    {
     "name": "stdout",
     "output_type": "stream",
     "text": [
      "bye MR:\n"
     ]
    },
    {
     "name": "stdin",
     "output_type": "stream",
     "text": [
      "Enter number:  32424\n"
     ]
    },
    {
     "name": "stdout",
     "output_type": "stream",
     "text": [
      "current total is 1029954\n"
     ]
    },
    {
     "name": "stdin",
     "output_type": "stream",
     "text": [
      "Add another?  no\n"
     ]
    }
   ],
   "source": [
    "#19. Epic move game\n",
    "\n",
    "while exit != \"yes\":\n",
    "    print (\"mmmh\")\n",
    "    exit =input(\"Exit?: \")\n",
    "\n",
    "\n",
    "# #while infinite loop ...if itss running them its definitely looped otherwise it exits\n",
    "while True:\n",
    "    print(\"This program is running \")\n",
    "    goagain = input (\"Go again?: \")\n",
    "    if goagain ==  \"no\":\n",
    "     break \n",
    "print(\"aww , i was having a good codimg time \")\n",
    "\n",
    "# # simple calculator by the use of while loop\n",
    "counter = 0\n",
    "while True:\n",
    "    answer = int (input(\"Enter number: \"))  \n",
    "    # print(\"Adding it up!\")\n",
    "    counter += answer\n",
    "    print(\"current total is\", counter)\n",
    "    addanother = input(\"Add another? \")  #yes or no\n",
    "    if addanother == \"no\":\n",
    "        break\n",
    "    print (\"bye MR:\")\n"
   ]
  },
  {
   "cell_type": "code",
   "execution_count": 10,
   "id": "2c5a8f4d-8b3b-4513-b220-ba535a170b82",
   "metadata": {},
   "outputs": [
    {
     "name": "stdout",
     "output_type": "stream",
     "text": [
      "But I don't want ANY spam!\n",
      "Spam Spam Spam\n",
      "0\n",
      "1\n",
      "2\n",
      "3\n",
      "4\n",
      "5\n",
      "6\n",
      "7\n",
      "8\n",
      "9\n",
      "Loan payment amount after 10 years: 10.61\n",
      "Loan payment amount after 10 years: 1272.79\n"
     ]
    }
   ],
   "source": [
    "spam_amount =0\n",
    "spam_amount = spam_amount + 4\n",
    "if spam_amount > 0:\n",
    "    print(\"But I don't want ANY spam!\")\n",
    "\n",
    "viking_song = \"Spam Spam Spam\"\n",
    "print(viking_song)\n",
    "\n",
    "\n",
    "#for loop to loop if we know how many times to repeat\n",
    "#with the syntax: for (new_var) in range (no. of values):\n",
    "for counter in range(10):\n",
    "    print(counter)\n",
    "    principal = 1000\n",
    "    monthly_rate = 0.05* 0.12 #monthly rate \n",
    "    duration = 10*12 #loan amount in 12 months\n",
    "\n",
    "    \n",
    "principal = 1000  # Loan principal amount\n",
    "interest_rate = 0.05/12  # Annual interest rate\n",
    "loan_duration = 10*12  # Loan duration in years\n",
    "\n",
    "monthly_payment = (principal *interest_rate) / (1 - (1 + interest_rate) ** -loan_duration)\n",
    "\n",
    "print(\"Loan payment amount after 10 years:\", round(monthly_payment, 2))\n",
    "\n",
    "#using of a for loopnh \n",
    "monthly_payment = 0\n",
    "\n",
    "for i in range(loan_duration):\n",
    "    monthly_payment += (principal * interest_rate) / (1 - (1 + interest_rate) ** -loan_duration)\n",
    "\n",
    "print(\"Loan payment amount after 10 years:\", round(monthly_payment, 2))\n"
   ]
  },
  {
   "cell_type": "code",
   "execution_count": 11,
   "id": "a241e485",
   "metadata": {},
   "outputs": [],
   "source": [
    "#19. Epic move game\n",
    "\n",
    "while exit != \"yes\":\n",
    "    print (\"mmmh\")\n",
    "    exit =input(\"Exit?: \")"
   ]
  },
  {
   "cell_type": "code",
   "execution_count": null,
   "id": "26f03aaf",
   "metadata": {},
   "outputs": [],
   "source": []
  },
  {
   "cell_type": "code",
   "execution_count": 12,
   "id": "d1109b1a",
   "metadata": {},
   "outputs": [
    {
     "name": "stdin",
     "output_type": "stream",
     "text": [
      "Whats your name  Richard\n"
     ]
    },
    {
     "name": "stdout",
     "output_type": "stream",
     "text": [
      "welcome bigman\n",
      "you are one of the coolest guy ever seen niggah\n"
     ]
    }
   ],
   "source": [
    "#if statement\n",
    "myname = input(\"Whats your name \")\n",
    "if myname == \"Richard\": #colon at the end indicates if that is fulllfilled the go on and ...\n",
    "    print (\"welcome bigman\")\n",
    "    print(\"you are one of the coolest guy ever seen niggah\")\n",
    "else:\n",
    "    print(\"who the fuck are you even dude\")"
   ]
  },
  {
   "cell_type": "code",
   "execution_count": 13,
   "id": "0f93ecbc",
   "metadata": {},
   "outputs": [
    {
     "name": "stdin",
     "output_type": "stream",
     "text": [
      "Whats your name  komora\n"
     ]
    },
    {
     "name": "stdout",
     "output_type": "stream",
     "text": [
      "welcome bigman\n",
      "you are one of the coolest guy ever seen niggah\n"
     ]
    }
   ],
   "source": [
    "#if statement\n",
    "myname = input(\"Whats your name \")\n",
    "if myname == \"komora\": #colon at the end indicates if that is fulllfilled the go on and ...\n",
    "    print (\"welcome bigman\")\n",
    "    print(\"you are one of the coolest guy ever seen niggah\")\n",
    "else:\n",
    "    print(\"who the fuck are you even dude\")\n",
    "\n"
   ]
  },
  {
   "cell_type": "code",
   "execution_count": null,
   "id": "66b88cb6",
   "metadata": {},
   "outputs": [],
   "source": []
  }
 ],
 "metadata": {
  "kernelspec": {
   "display_name": "Python 3 (ipykernel)",
   "language": "python",
   "name": "python3"
  },
  "language_info": {
   "codemirror_mode": {
    "name": "ipython",
    "version": 3
   },
   "file_extension": ".py",
   "mimetype": "text/x-python",
   "name": "python",
   "nbconvert_exporter": "python",
   "pygments_lexer": "ipython3",
   "version": "3.11.3"
  }
 },
 "nbformat": 4,
 "nbformat_minor": 5
}
